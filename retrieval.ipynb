{
 "cells": [
  {
   "cell_type": "code",
   "execution_count": null,
   "metadata": {},
   "outputs": [
    {
     "ename": "NameError",
     "evalue": "name 'data_' is not defined",
     "output_type": "error",
     "traceback": [
      "\u001b[31m---------------------------------------------------------------------------\u001b[39m",
      "\u001b[31mNameError\u001b[39m                                 Traceback (most recent call last)",
      "\u001b[36mCell\u001b[39m\u001b[36m \u001b[39m\u001b[32mIn[1]\u001b[39m\u001b[32m, line 5\u001b[39m\n\u001b[32m      2\u001b[39m \u001b[38;5;28;01mimport\u001b[39;00m\u001b[38;5;250m \u001b[39m\u001b[34;01mjson\u001b[39;00m\n\u001b[32m      4\u001b[39m \u001b[38;5;28;01mwith\u001b[39;00m \u001b[38;5;28mopen\u001b[39m(\u001b[33m\"\u001b[39m\u001b[33mdata.json\u001b[39m\u001b[33m\"\u001b[39m, \u001b[33m\"\u001b[39m\u001b[33mw\u001b[39m\u001b[33m\"\u001b[39m) \u001b[38;5;28;01mas\u001b[39;00m f:\n\u001b[32m----> \u001b[39m\u001b[32m5\u001b[39m     json.dump(\u001b[43mdata_\u001b[49m, f, indent=\u001b[32m4\u001b[39m)\n",
      "\u001b[31mNameError\u001b[39m: name 'data_' is not defined"
     ]
    }
   ],
   "source": [
    "# # save data locally as a json file\n",
    "# import json\n",
    "\n",
    "# with open(\"data.json\", \"w\") as f:\n",
    "#     json.dump(data_, f, indent=4)"
   ]
  },
  {
   "cell_type": "code",
   "execution_count": 3,
   "metadata": {},
   "outputs": [],
   "source": [
    "#load data from json file\n",
    "with open(\"data.json\", \"r\") as f:\n",
    "    data = json.load(f)"
   ]
  },
  {
   "cell_type": "code",
   "execution_count": 4,
   "metadata": {},
   "outputs": [
    {
     "name": "stderr",
     "output_type": "stream",
     "text": [
      "/Users/azim/Desktop/CourseMate/venv/lib/python3.12/site-packages/tqdm/auto.py:21: TqdmWarning: IProgress not found. Please update jupyter and ipywidgets. See https://ipywidgets.readthedocs.io/en/stable/user_install.html\n",
      "  from .autonotebook import tqdm as notebook_tqdm\n"
     ]
    }
   ],
   "source": [
    "from sentence_transformers import SentenceTransformer, util\n",
    "import heapq\n",
    "\n",
    "# Load Sentence Transformer model\n",
    "model = SentenceTransformer('sentence-transformers/multi-qa-MiniLM-L6-cos-v1')\n",
    "\n",
    "# Function to calculate harmonic mean\n",
    "def harmonic_mean(a, b):\n",
    "    return (2 * a * b) / (a + b) if a + b != 0 else 0\n",
    "\n",
    "# Function to get embeddings\n",
    "def get_embedding(text):\n",
    "    return model.encode(text, convert_to_tensor=True)\n",
    "\n",
    "# Retrieval pipeline\n",
    "def retrieve(query, data, top_n=5):\n",
    "    # Get query embedding\n",
    "    query_embedding = get_embedding(query)\n",
    "    \n",
    "    # Step 1: Calculate similarity with topics\n",
    "    topic_similarities = []\n",
    "    for idx, item in enumerate(data):\n",
    "        topic_embedding = get_embedding(item['topic'])\n",
    "        similarity = util.cos_sim(query_embedding, topic_embedding).item()\n",
    "        topic_similarities.append((similarity, idx))\n",
    "    \n",
    "    # Step 2: Select top N topics\n",
    "    top_topics = heapq.nlargest(top_n, topic_similarities, key=lambda x: x[0])\n",
    "    \n",
    "    # Step 3: Calculate similarity with content for top topics\n",
    "    results = []\n",
    "    for topic_similarity, idx in top_topics:\n",
    "        content_embedding = get_embedding(data[idx]['content'])\n",
    "        content_similarity = util.cos_sim(query_embedding, content_embedding).item()\n",
    "        # Step 4: Rank by harmonic mean\n",
    "        hmean = harmonic_mean(topic_similarity, content_similarity)\n",
    "        results.append((hmean, data[idx]))\n",
    "    \n",
    "    # Step 5: Sort results by harmonic mean\n",
    "    results = sorted(results, key=lambda x: x[0], reverse=True)\n",
    "    \n",
    "    return results"
   ]
  },
  {
   "cell_type": "code",
   "execution_count": 5,
   "metadata": {},
   "outputs": [
    {
     "name": "stdout",
     "output_type": "stream",
     "text": [
      "Ranked Results:\n",
      "Total Similarity: 0.6317, Topic: Energy in Fully Developed Laminar Flow, Content: \n",
      "**Key Concepts**:\n",
      "1. **Bernoulli's Equation for Energy Loss**:\n",
      "   - For uniform velocity profiles (\\( \u0007lpha = 1 \\)):\n",
      "     $$ \frac{p_1}{\\gamma} + z_1 - \frac{p_2}{\\gamma} + z_2 = h_L $$\n",
      "   - Head loss (\\( h_L \\)) accounts for energy dissipation due to viscous effects.\n",
      "\n",
      "2. **Head Loss in Laminar Flow**:\n",
      "   - Using pressure drop and wall shear stress:\n",
      "     $$ h_L = \frac{4 l \tau_w}{\\gamma D} $$\n",
      "   - This formula is valid for both laminar and turbulent flow.\n",
      "\n",
      "**Key Equation**:\n",
      "- Head loss in terms of wall shear stress:\n",
      "  $$ h_L = \frac{4 l \tau_w}{\\gamma D} $$\n",
      "...\n",
      "Total Similarity: 0.4931, Topic: Introduction to Laminar and Turbulent Flows, Content: \n",
      "The lecture introduces laminar and turbulent flows with examples and key characteristics.\n",
      "\n",
      "1. **Observation Example**:\n",
      "   - A candle's smoke plume initially rises smoothly (laminar flow) and then fluctuates randomly (turbulent flow).\n",
      "\n",
      "2. **Definitions**:\n",
      "   - **Laminar Flow**:\n",
      "     - Smooth streamlines.\n",
      "     - Highly ordered motion.\n",
      "     - Occurs at low velocities or in highly viscous fluids.\n",
      "   - **Turbulent Flow**:\n",
      "     - Velocity fluctuations and highly disordered motion.\n",
      "     - Predominant in natural flows at high velocities.\n",
      "\n",
      "3. **Key Real-World Examples**:\n",
      "   - Blood flow in veins and arteries: Laminar due to narrow passage and low velocities.\n",
      "   - Oil flow through narrow pipes: Laminar due to high viscosity.\n",
      "\n",
      "4. **Reynolds Number (Re)**:\n",
      "   - Dimensionless number: Ratio of inertial forces to viscous forces.\n",
      "     $$ \\text{Re} = \\frac{\\bar{V}D}{\\nu} $$\n",
      "     - \\( \\bar{V} \\): Average flow velocity (m/s).\n",
      "     - \\( D \\): Characteristic length (e.g., diameter of pipe).\n",
      "     - \\( \\nu ...\n",
      "Total Similarity: 0.4884, Topic: Total Energy in Open Channel Flow, Content: \n",
      "**Channel Slope and Energy Representation**:\n",
      "- Open channels have a slight slope, \\( S_0 \\), calculated as:\n",
      "  $$ S_0 = \\frac{z_1 - z_2}{L} $$ \n",
      "  - \\( z_1, z_2 \\): Elevations at two cross-sections.\n",
      "  - \\( L \\): Channel length.\n",
      "\n",
      "**Energy Equation**:\n",
      "- For a channel with velocity \\( V \\), depth \\( y \\), and head loss \\( h_L \\):\n",
      "  $$ \\frac{P_1}{\\gamma} + \\frac{V_1^2}{2g} + z_1 = \\frac{P_2}{\\gamma} + \\frac{V_2^2}{2g} + z_2 + h_L $$\n",
      "\n",
      "**Simplified Energy Equation**:\n",
      "- Assuming hydrostatic pressure (\\( \\frac{P}{\\gamma} = y \\)):\n",
      "  $$ y_1 - y_2 = \\frac{V_2^2 - V_1^2}{2g} + LS_f - S_0 L $$\n",
      "  - \\( S_f \\): Friction slope.\n",
      "  - \\( S_0 \\): Channel slope.\n",
      "\n",
      "**Specific Energy**:\n",
      "- Defined as:\n",
      "  $$ E = y + \\frac{V^2}{2g} $$\n",
      "  - Combines depth and kinetic energy head.\n",
      "...\n",
      "Total Similarity: 0.4798, Topic: Laminar and Turbulent Flow, Content: Week 4 explores laminar and turbulent flow, Reynolds’ experiment, and laminar flow analysis in circular pipes, annular plates, and parallel plates. We will also study the transition from laminar to turbulent flow, turbulent flow properties, Reynolds stresses, Prandtl’s mixing length theory, and turbulent flow in pipes....\n",
      "Total Similarity: 0.4199, Topic: Velocity Profile for Fully Developed Laminar Flow, Content: \n",
      "**Key Steps**:\n",
      "1. **Relating Shear Stress and Velocity Gradient**:\n",
      "   $$ \tau = -\\mu \frac{du}{dr} $$\n",
      "   - Substitute \\( \tau \\) from earlier:\n",
      "     $$ -\\mu \frac{du}{dr} = \frac{\\Delta p}{2l}r $$\n",
      "   - Rearrange and integrate:\n",
      "     $$ u(r) = -\frac{\\Delta p}{4\\mu l}r^2 + C_1 $$\n",
      "\n",
      "2. **Boundary Condition**:\n",
      "   - **No-Slip Condition**: At \\( r = D/2, u = 0 \\).\n",
      "   - Solve for \\( C_1 \\):\n",
      "     $$ C_1 = \frac{\\Delta p D^2}{16\\mu l} $$\n",
      "\n",
      "3. **Velocity Profile**:\n",
      "   - Substitute \\( C_1 \\):\n",
      "ight) $u(r) = \frac{\\Delta p D^2}{16\\mu l} \\left(1 - \frac{4r^2}{D^2}\n",
      "\n",
      "4. **Flow Rate**:\n",
      "   - Integrate velocity over the pipe cross-section:\n",
      "     $$ Q = \\int_0^{D/2} u(r) \\cdot 2\\pi r \\, dr $$\n",
      "   - Result:\n",
      "     $$ Q = \frac{\\pi D^4 \\Delta p}{128 \\mu l} $$\n",
      "\n",
      "**Key Result**:\n",
      "- **Poiseuille's Law**:\n",
      "  $$ Q = \frac{\\pi D^4 \\Delta p}{128 \\mu l} $$\n",
      "  - Relates flow rate (\\( Q \\)) to pressure gradient (\\( \\Delta p/l \\)).\n",
      "...\n"
     ]
    }
   ],
   "source": [
    "# User Query\n",
    "query = \"what is the energy in fully developed laminar flow?\"\n",
    "\n",
    "# Retrieve Results\n",
    "results = retrieve(query, data)\n",
    "\n",
    "# Print Ranked Results\n",
    "print(\"Ranked Results:\")\n",
    "for score, item in results:\n",
    "    print(f\"Total Similarity: {score:.4f}, Topic: {item['topic']}, Content: {item['content'][:1000]}...\")"
   ]
  },
  {
   "cell_type": "code",
   "execution_count": null,
   "metadata": {},
   "outputs": [],
   "source": []
  }
 ],
 "metadata": {
  "kernelspec": {
   "display_name": "venv",
   "language": "python",
   "name": "python3"
  },
  "language_info": {
   "codemirror_mode": {
    "name": "ipython",
    "version": 3
   },
   "file_extension": ".py",
   "mimetype": "text/x-python",
   "name": "python",
   "nbconvert_exporter": "python",
   "pygments_lexer": "ipython3",
   "version": "3.12.7"
  }
 },
 "nbformat": 4,
 "nbformat_minor": 2
}
